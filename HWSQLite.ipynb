{
  "nbformat": 4,
  "nbformat_minor": 0,
  "metadata": {
    "colab": {
      "provenance": [],
      "authorship_tag": "ABX9TyP5GH6ajZp454u2ZEUeSDPV",
      "include_colab_link": true
    },
    "kernelspec": {
      "name": "python3",
      "display_name": "Python 3"
    },
    "language_info": {
      "name": "python"
    }
  },
  "cells": [
    {
      "cell_type": "markdown",
      "metadata": {
        "id": "view-in-github",
        "colab_type": "text"
      },
      "source": [
        "<a href=\"https://colab.research.google.com/github/missaixxka/HomeworkPython/blob/main/HWSQLite.ipynb\" target=\"_parent\"><img src=\"https://colab.research.google.com/assets/colab-badge.svg\" alt=\"Open In Colab\"/></a>"
      ]
    },
    {
      "cell_type": "markdown",
      "source": [
        "# 1. Создание базы данных и таблиц\n",
        "Создайте базу данных library.db и таблицу books с полями:\n",
        "\n",
        "id (PRIMARY KEY, AUTOINCREMENT),\n",
        "\n",
        "title (TEXT, NOT NULL),\n",
        "\n",
        "author (TEXT, NOT NULL),\n",
        "\n",
        "year_published (INTEGER),\n",
        "\n",
        "genre (TEXT)."
      ],
      "metadata": {
        "id": "inCzo4J7eqvj"
      }
    },
    {
      "cell_type": "markdown",
      "source": [
        "# 2. Вставка данных\n",
        "Добавьте в таблицу books следующие записи:\n",
        "\n",
        "\"The Great Gatsby\", автор: F. Scott Fitzgerald, год: 1925, жанр: Fiction.\n",
        "\n",
        "\"1984\", автор: George Orwell, год: 1949, жанр: Dystopian.\n",
        "\n",
        "\"To Kill a Mockingbird\", автор: Harper Lee, год: 1960, жанр: Classic."
      ],
      "metadata": {
        "id": "_6_n3Yqhe1fI"
      }
    },
    {
      "cell_type": "markdown",
      "source": [
        "# 3. Выборка всех данных\n",
        "Напишите запрос, который выбирает все книги из таблицы books."
      ],
      "metadata": {
        "id": "0nWNqLLkfIe-"
      }
    },
    {
      "cell_type": "markdown",
      "source": [
        "# 4. Фильтрация данных\n",
        "Выберите все книги, опубликованные после 1950 года."
      ],
      "metadata": {
        "id": "Al1CgAYwfTJI"
      }
    },
    {
      "cell_type": "markdown",
      "source": [
        "# 5. Использование оператора LIKE\n",
        "Найдите все книги, название которых начинается с буквы \"T\"."
      ],
      "metadata": {
        "id": "uU51JHPTfXfj"
      }
    },
    {
      "cell_type": "markdown",
      "source": [
        "# 6. Сортировка данных\n",
        "Отсортируйте книги по году публикации в порядке возрастания."
      ],
      "metadata": {
        "id": "op3FVbEyfci9"
      }
    },
    {
      "cell_type": "markdown",
      "source": [
        "# 7. Ограничение количества строк\n",
        "Выберите первые две книги из таблицы books, отсортированные по названию."
      ],
      "metadata": {
        "id": "dHxJqLGNfijm"
      }
    },
    {
      "cell_type": "markdown",
      "source": [
        "# 8. Агрегатные функции\n",
        "Подсчитайте общее количество книг в таблице books."
      ],
      "metadata": {
        "id": "3H5oO2-QfsJx"
      }
    },
    {
      "cell_type": "markdown",
      "source": [
        "# 9. Группировка данных\n",
        "Подсчитайте количество книг для каждого жанра."
      ],
      "metadata": {
        "id": "-iofgZGxf0sn"
      }
    },
    {
      "cell_type": "markdown",
      "source": [
        "# 10. Обновление данных\n",
        "Обновите год публикации книги \"1984\" на 1948."
      ],
      "metadata": {
        "id": "hrS30hg1f4zN"
      }
    },
    {
      "cell_type": "markdown",
      "source": [
        "# 11. Удаление данных\n",
        "Удалите книгу с названием \"The Great Gatsby\"."
      ],
      "metadata": {
        "id": "MhrzSAyEf-p-"
      }
    },
    {
      "cell_type": "markdown",
      "source": [
        "# 12. Создание индекса\n",
        "Создайте индекс для столбца author в таблице books."
      ],
      "metadata": {
        "id": "hWg8RwDqgDNw"
      }
    },
    {
      "cell_type": "markdown",
      "source": [
        "# 13. Проверка существования индекса\n",
        "Проверьте, существует ли индекс для столбца author."
      ],
      "metadata": {
        "id": "kSTY5n0xgJh1"
      }
    },
    {
      "cell_type": "markdown",
      "source": [
        "# 14. Триггер для логирования\n",
        "Создайте триггер, который записывает изменения в таблицу logs при добавлении новой книги."
      ],
      "metadata": {
        "id": "CNKofqaTgPDJ"
      }
    },
    {
      "cell_type": "markdown",
      "source": [
        "# 15. Транзакции\n",
        "Создайте программу, которая выполняет следующие действия в рамках одной транзакции:\n",
        "\n",
        "Добавляет новую книгу.\n",
        "\n",
        "Обновляет год публикации другой книги.\n",
        "\n",
        "Отменяет изменения, если возникает ошибка."
      ],
      "metadata": {
        "id": "4--b4CuxgXQz"
      }
    },
    {
      "cell_type": "markdown",
      "source": [
        "# 16. Пользовательская функция\n",
        "Создайте пользовательскую функцию на Python, которая вычисляет возраст книги (текущий год минус год публикации), и используйте её в SQL-запросе."
      ],
      "metadata": {
        "id": "s6swuh3Ngezo"
      }
    },
    {
      "cell_type": "markdown",
      "source": [
        "# 17. Представления\n",
        "Создайте представление modern_books, которое содержит книги, опубликованные после 1950 года."
      ],
      "metadata": {
        "id": "GgE4RR26gjmH"
      }
    },
    {
      "cell_type": "markdown",
      "source": [
        "# 18. Удаление таблицы\n",
        "Удалите таблицу books и проверьте её существование."
      ],
      "metadata": {
        "id": "fryrjXMwgpGd"
      }
    },
    {
      "cell_type": "markdown",
      "source": [
        "# 19. Композитный индекс\n",
        "Создайте композитный индекс для столбцов author и year_published в таблице books."
      ],
      "metadata": {
        "id": "BhHik_bYguYN"
      }
    },
    {
      "cell_type": "markdown",
      "source": [
        "# 20. Удаление базы данных\n",
        "Напишите программу, которая удаляет файл базы данных library.db, если он существует."
      ],
      "metadata": {
        "id": "pOC529UdgzP4"
      }
    },
    {
      "cell_type": "markdown",
      "source": [
        "# 21. Обязательное задание.\n",
        "Создать базу данных (БД).\n",
        "\n",
        "Для каждого класса из \"Задачи до 25 апреля\" реализовать соответствующую таблицу в базе данных.\n",
        "\n",
        "Обеспечить механизмы для ввода и вывода данных в/из таблиц."
      ],
      "metadata": {
        "id": "abWkpEHhg3W-"
      }
    }
  ]
}