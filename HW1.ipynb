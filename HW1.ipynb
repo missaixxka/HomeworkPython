{
  "nbformat": 4,
  "nbformat_minor": 0,
  "metadata": {
    "colab": {
      "provenance": [],
      "authorship_tag": "ABX9TyNKvdWblftNB3tNicYy6iM7",
      "include_colab_link": true
    },
    "kernelspec": {
      "name": "python3",
      "display_name": "Python 3"
    },
    "language_info": {
      "name": "python"
    }
  },
  "cells": [
    {
      "cell_type": "markdown",
      "metadata": {
        "id": "view-in-github",
        "colab_type": "text"
      },
      "source": [
        "<a href=\"https://colab.research.google.com/github/missaixxka/HomeworkPython/blob/main/HW1.ipynb\" target=\"_parent\"><img src=\"https://colab.research.google.com/assets/colab-badge.svg\" alt=\"Open In Colab\"/></a>"
      ]
    },
    {
      "cell_type": "markdown",
      "source": [
        "# 1. Ввод и вывод данных. Целые числа: группа Integer"
      ],
      "metadata": {
        "id": "JbTNW2V9E0xD"
      }
    },
    {
      "cell_type": "markdown",
      "source": [
        "![image.png](data:image/png;base64,iVBORw0KGgoAAAANSUhEUgAAANgAAABFCAYAAAAo2ChwAAAAAXNSR0IArs4c6QAAAARnQU1BAACxjwv8YQUAAAAJcEhZcwAAFxEAABcRAcom8z8AAAwZSURBVHhe7d0FkCxXFcbxh7tDcNcECndPggR3K9ydYMGCBCjcCRQeNLi7B4JrBQp3d3cLcH49e+vNdnqmZXdmejbnX/XVa5u309N9rpx77rm7kiRJkiRJkiRJkiRJkiRJkh3CiTf+TZJkGzlj6AOhn4d+GLpFKEmSbeC4oWeG7hW6VOjZof+FLhlKkmSLnDpUN6Y/hg6YbCZJst18K3STyWaSJNvJnqFPh1bl8NBMfWGLbhMaO6cNHRR6crXXzl1Cbw29OfSM0MlCyQ7klaFrTDZXwrtD+oDz9KDQWDlP6EkhzWzf9W2heRwn5J6/F9JUP2foXaHvh84QSnYQ+4fuPdlcCecKHRl6Q0jpf+CUHhZ6Z8hLy+s5Vq4Sul6IV9Z3fW1oHs8JuW6vam83fwh9JnSMai9Ze64aqrvneRiXyRNCd51sNvKW0BGTzdGjsGozsPOGXMOQ6jwx5Nytq71krdGn+VDolqHbhu4QOjh08tCyOFZo38lmI6cIeeHuU+0tB021G0w2e6OgaDMwfS3XPK7a28x1Q859LpS12BpxzI1/C2cNHRb6Quhroa9v6DGhMcH4vXBnqvb6w4D78pfQ0Cbz3UPzDMxz8Hu7RoFWR1/OOTq7A8nq0WH2QrwuxEgeHyp4wZ4W+lnopQ5sMOTFWwUfDinNmzh/yL1+NPSV0H6hwjlC+m6iVG7kQA98Zl6TdR5tBrZHiAG7Rp+tDi9kOX9NB5LVo1RU8u0dMpbl4VwhBM2RT4S+EXqjA2uEpqp7uXO1d1Q0HxmZ5q3rfhkCZ8jHQx8LfSd0u1AfFmlg0zUUx0gdwyTuw/l7OpCMC652D0f7/tqhh4TWldI8VKq3cUjItZfY2L5iaCgM7E6Tzd60GdilQ87TRRyocdLQr0PO86AmI+MkIWMxvwk93YEFoXYxXtNHmrJ9+GCoydPWxI1DXkpBywyzC5rJPKZ1/SJ0j9qxojbHQx8Du4wDNTy/X4WcFyeajBCDnB7QBau9xfCi0L976gKhroho+G/obtVeO2cLGUv7brXXjaeEjDvV5e/+rXas6OKhebQZ2LlDxcB4DOucOfSPkPMZtjZSRBR4QIuMzBB5oATuoxOGumJszj10aR5CP/R3GzqRAx1gLP5OXb8Pvbh2rOhUoXm0GZgm4G9DrrmOAzUMujNw5y/vQDIueKl41DwgY1rriuYh72BXbh76U8h9X9aBLfDT0K0mm71pMzDwjLqmqXa+esg5BYXmYjIyNHv0QTQzuOzXEaW8Uryr9+80oeeFeBu9nKIptsIivYgo3/O51d5mHhhy7jXVXjIqNGEeNdmsIuM9qDJAe/2QTvo6oDby3U9Z7bXjReU8cL3PvSME/bKrTTZ7sRUDEx3vOxxa7TWjZlJD/aDa24woEp/flv7zdFtZ+3yfyWbSER4tnqb7hbxISs0y3UREhgflPI/YDUPrwvtCxrFmYbKo6SAGloVQFXe230M0+t9D3PT6osad+sJNriYawoNDfvePVHuzuVbIddPRHFcKOVYKyUFw1d409KkQay9wmRp7eHXo9A4krfjNRGh4KGqs6d/NFAjHadZA7Rjh1Ki/eHUYT7m3+lDEI0OOqx0u7MAAfLbvOJi/df+Q/q/mOY+jQm6eo+n2oZ+EBAO4j2+G7hsaBMPidtR5LT/OtIEVuC7FavGmJO1wfXuITWNMOvsGXtcJTVo1sn7YLNRUoiAuV+1tRqHjXFfvYxPG7PpOPPX3DBxzw3O1i/VkdLyt8/A5DhX95q18513HC3HVMhxhOwxsVslqYp2BUqEwSZL0xBTpeQYGbWkdviRJevL6UJuBlXk1ar0kSXogqrvNwDQlXWMK9hg59gzxjPaNuUuSbaWLgXlJeVhcN8TVukhMcReQKaSmxKjpM/q+glMNfCbJyuhiYDg85LpVJmSpw7slJMc8IyEv7wmZ2Gebe7atSauGe2jIWEdXrUO6smREdDUwqcRc95JqbxyY3Nc0DUQa6qbo6DqCRb8YMubRVS8LJUlnuhqYl9Z1RvbHwuk2/p1GJqDMApSMhq4GVhYkGKujA4Jrl92EM3isiSriILXz9fBQL/oamOiPMcK4hmSbFW3Q5IGcJddPI8rAtAbxbKmdr95RTV0N7Fkh18nbPTbEnQ0xLoGqprWXyYFdJPFmknSmq4EJ/HUdt/iYeECoybhMmWjj+CHTSjQru0r23STpjGkVDEc08TykG3PdmKZaCFBuWjnDvYwtaWdyNOWzIYajjzULJb3m0Z9D8yKrl4l0yr63YGXu829PyXE5x9cRQdXyU2Rw9ZpjHpgxpK+GvKSfDz0iZG2oOhcKeWmfX+2tHplivxSStehHIXkbpmVlkHVE1lv3VAoz6c+SNUUqLqVkyZPOQ2bg9QTV3mYkzGRg5tWMAdPtd1qMoTE9/VyFGecLZ5JcGEPzwCdrhOSZwoSSxaHwml5gQK4IBtaUTizZQcilILYvWS5m8irYNIdXiVaNAO+x9L37Ir9M16WHtByWumyvBC3vD5kBnSwXEQMSbq4KmZRK4LTsxN4DTdixdBPaUChYudL3ri8XVUfuDb4ICXqk6tY832o+x7kwKGNLaq+2L5dsP2cJvTe0Kk+iJD3/CgkuKDWXNGxvClltZMxrZZ0vJG62LDvEGTYPy0i57p+hkuWXNM9vFloI3PJjm/d1dEHhJnEnZ8cq0Jz6csiC4HVM7/HySTMxViS3kYCnJA01DDULY7pqLd5bhZnm4ZVDZdkpU54UdskOgsd2egyPt7ce/7hIZGHycqlBm5CfxQTXZaD1NLQFZa0y92H4qQkFieavZaXqqKH1f31eGF6yA9AZN353eEifgKFZV8z0G0Moy4JzxeorZojXpwPxbP4ntKwESIIfrBwzBE1FBmJZ3ibUxvMW1XtVyOd1k5KRouaRX6/JiyWV9DSyAZsKpFMuLK1Ik2XZ+A5eLsvFTi/C/tQQ4/PyNqG2kaKhaYyyfr9d4FwZOj1qr9A8A2tDzK3PD03bnSwQg8OPDWmeaONPr9PMO1fa+FI7j5E9Q6WJZMa3mkwyTo6AprWKOUBEAal93e8rQgVeR4bq/5oXjteEjGc8mUPYqoGZNeHzqx4mSRoQaWJMRWfbi+ql4zjSYZZW2wIJh4VE548V60qbyuMlkxKc42NWVIkmrPtVeJTPMCz9R7WhNAvyw3M89GFVBsZzqjDJVVXWgINCHrRV7I3LWFRgXRBF4rsTx0aXmRRmMrhe0+rA0FYWHjTT4+2Tzd5sxcBKaGBmJFsDDFh6WFYJWWSNxfOoBumqttkG+n6auFzYZfklapvYygPHESJ9ntVWusDBo69aF+PSB2s6p0Uwj6EGxsnjc23Tt5KR4EUQHaDJsaiIGM4FU3a82F1lBsWsECJ9MAOtpUDgPZQSrxgZo5uHfpvruo4hmdenAKrLOJTfrelcW2061MBcP5ZZI0lHjgh52EOX8OmCPo98EV01K+SJsXJK/Lja2w1j1G90H+bczatB9Jtc1+QQacIgrxq1Lkat79Z0ri02coiB6RsP7fMlK8JqluZ4edhdV+lfJWWAdtoTWOCyZ3jOz1qKSZPYcrmumfaeDoGTgat+CH0NTNNXU3hWrZ6MEO7tl4f2DnnYtgtjfZD6Xr7rIdXeUWE0zjetB2YuoQFaK/K7Ro23FbbDi6g2bkO2amOOTXMhkeFSI0U0vJRu4Kov8X0GXQevnrhgeM6ODM1atP3gkPNc8HUMzt5xslnNNBdwC324eatkzmIrBmbxPQbmPuYVZr6vccn6GtSaylYp9QytU52MAC+SFOOMx3STR4cKnwx54LJ3GRdaZH9sq5RA2f2rvd1YwVMkRwkx0g97QeiAkKlNjK+geef/EMsn5GvI/RrsHZpJet+Qv28cclZ/Uep111gshCFqyhcpIMwoUEjMqtmSJcN97AX00EyDmEb/qzxMTaixw8Vu0NhaBAyNkUg6O71eMueEmtl9iU+cjpm0NoDj8osMvV+1x6GTzc5w4Cgg9KdMrSHjaYxpmouFnPM8xF3+tSaG5XjT2gfJCtFen1VaXzS0qjleQzA+tV+Io2afUFNJzhs5y+Hhd1DoDMXf61t7COIV3rRHSIuCRKCYJTCN6zhtyjWzNDSaP0mSJEmSJEmSJFkIu3b9H6F8gbXUdMKvAAAAAElFTkSuQmCC)"
      ],
      "metadata": {
        "id": "G_HyNVHLFaHy"
      }
    },
    {
      "cell_type": "code",
      "source": [
        "x = float(input(\"Введите значение x: \"))\n",
        "\n",
        "if x == 2 or x == 6:\n",
        "  print(\"Ошибка: Деление на ноль! x не может быть равен 2 или 6.\")\n",
        "else:\n",
        "  z = (x**2 - 7*x + 10) / (x**2 - 8*x + 12)\n",
        "  print(f\"Значение z: {z}\")"
      ],
      "metadata": {
        "id": "3AnSA8_wqdbe"
      },
      "execution_count": null,
      "outputs": []
    },
    {
      "cell_type": "markdown",
      "source": [
        "![image.png](data:image/png;base64,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)"
      ],
      "metadata": {
        "id": "Eiiv4d4SFSxn"
      }
    },
    {
      "cell_type": "code",
      "source": [
        "from math import cos, sin\n",
        "\n",
        "x = float(input(\"Введите значение x (в радианах): \"))\n",
        "denominator = 1 + cos(2*x) + sin(2*x)\n",
        "\n",
        "if denominator == 0:\n",
        "    print(\"Ошибка: Деление на ноль!\")\n",
        "else:\n",
        "    y = (1 - cos(2*x) + sin(2*x)) / denominator\n",
        "    print(f\"Значение y: {y}\")"
      ],
      "metadata": {
        "id": "OT5JtRq0rvC6"
      },
      "execution_count": null,
      "outputs": []
    },
    {
      "cell_type": "markdown",
      "source": [
        "3) Заданы координаты трех вершин треугольника (x1,y1), (x2,y2), (x3,y3).Найти его периметр и площадь."
      ],
      "metadata": {
        "id": "N5UILVN0Faxo"
      }
    },
    {
      "cell_type": "markdown",
      "source": [
        "4) Даны целые положительные числа A и B (A > B). На отрезке длины A размещено максимально возможное количество отрезков длины B (без наложений). Используя операцию деления нацело, найти количество отрезков B, размещенных на отрезке A."
      ],
      "metadata": {
        "id": "ai7gQCEoFXJL"
      }
    },
    {
      "cell_type": "markdown",
      "source": [
        "5)Даны координаты двух различных полей шахматной доски x1, y1,\n",
        "x2, y2 (целые числа, лежащие в диапазоне 1–8). Проверить истинность высказывания: «Конь за один ход может перейти с одного поля на другое».\n",
        "\n"
      ],
      "metadata": {
        "id": "ZH-WtTbCEx5a"
      }
    },
    {
      "cell_type": "markdown",
      "source": [
        "# 2. Условный оператор: группа If. Оператор выбора: группа Case"
      ],
      "metadata": {
        "id": "6aMkB8I7FvCA"
      }
    },
    {
      "cell_type": "markdown",
      "source": [
        "1)\tДля данного вещественного x найти значение следующей функции f, принимающей вещественные значения:\n",
        "![image.png](data:image/png;base64,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)"
      ],
      "metadata": {
        "id": "gOKTrSuBHZyP"
      }
    },
    {
      "cell_type": "markdown",
      "source": [
        "2) Даны три действительные числа. Возвести в квадрат те из них, значения которых неотрицательны, и в четвертую степень – отрицательные."
      ],
      "metadata": {
        "id": "E1Pm6dh2H_kB"
      }
    },
    {
      "cell_type": "markdown",
      "source": [
        "3) Найти max {min (a, b), min (c, d)}."
      ],
      "metadata": {
        "id": "qZg1dl5pIE-t"
      }
    },
    {
      "cell_type": "markdown",
      "source": [
        "4) Даны два различных вещественных числа. Определить:\n",
        "а) какое из них больше;\n",
        "б) какое из них меньше.\n"
      ],
      "metadata": {
        "id": "aYue9PA_IKPN"
      }
    },
    {
      "cell_type": "markdown",
      "source": [
        "5) Составить программу, которая в зависимости от порядкового номера дня недели (1, 2, ..., 7) выводит на экран его название (понедельник, вторник, ...,воскресенье)."
      ],
      "metadata": {
        "id": "apJPPpdfINvA"
      }
    },
    {
      "cell_type": "markdown",
      "source": [
        "# 3. Цикл с параметром: группа For. Цикл с условием: группа While. Последовательности: группа Series"
      ],
      "metadata": {
        "id": "EKdTUlgFF8zm"
      }
    },
    {
      "cell_type": "markdown",
      "source": [
        "1)\tИмеется серия измерений элементов треугольника. Группы элементов пронумерованы. В серии в произвольном порядке могут встречаться такие группы элементов треугольника:\n",
        "а.\tоснование и высота;\n",
        "б.\tдве стороны и угол между ними (угол задан в радианах);\n",
        "в.\tтри стороны.\n",
        "2) Составить программу, которая запрашивает номер группы элементов, вводит соответствующие элементы и вычисляет площадь треугольника. Вычисления прекратить, если в качестве номера группы введен 0.\n"
      ],
      "metadata": {
        "id": "UvVhZMTrH16I"
      }
    },
    {
      "cell_type": "markdown",
      "source": [
        "2) Дано натуральное число N. Вычислить:\n",
        "\n",
        "S = ![image.png](data:image/png;base64,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)"
      ],
      "metadata": {
        "id": "EsdwguECKrX5"
      }
    },
    {
      "cell_type": "markdown",
      "source": [
        "3) Найти сумму ряда с точностью ε=0,001, общий член которого:\n",
        "\n",
        "![image.png](data:image/png;base64,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)"
      ],
      "metadata": {
        "id": "DGlSn8vuLWPB"
      }
    },
    {
      "cell_type": "markdown",
      "source": [
        "# 4. Процедуры и функции: группа Proc"
      ],
      "metadata": {
        "id": "38yLr8dxGyix"
      }
    },
    {
      "cell_type": "markdown",
      "source": [
        "1)\tДано натуральное число N. Составить процедуру (функцию) формирования массива, элементами которого являются цифры числа N."
      ],
      "metadata": {
        "id": "1k7V_n5KL5nf"
      }
    },
    {
      "cell_type": "markdown",
      "source": [
        "2)\tТреугольник задан координатами своих вершин. Составить функцию вычисления его площади."
      ],
      "metadata": {
        "id": "AFgvzWcgMfi1"
      }
    },
    {
      "cell_type": "markdown",
      "source": [
        "3)\tНайдите сумму цифр заданного натурального числа, используя рекурсивную подпрограмму."
      ],
      "metadata": {
        "id": "k9I1IRFeMfuB"
      }
    }
  ]
}