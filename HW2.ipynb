{
  "nbformat": 4,
  "nbformat_minor": 0,
  "metadata": {
    "colab": {
      "provenance": [],
      "authorship_tag": "ABX9TyPFiUjNEk6cucizFS/x9gVa",
      "include_colab_link": true
    },
    "kernelspec": {
      "name": "python3",
      "display_name": "Python 3"
    },
    "language_info": {
      "name": "python"
    }
  },
  "cells": [
    {
      "cell_type": "markdown",
      "metadata": {
        "id": "view-in-github",
        "colab_type": "text"
      },
      "source": [
        "<a href=\"https://colab.research.google.com/github/missaixxka/HomeworkPython/blob/main/HW2.ipynb\" target=\"_parent\"><img src=\"https://colab.research.google.com/assets/colab-badge.svg\" alt=\"Open In Colab\"/></a>"
      ]
    },
    {
      "cell_type": "markdown",
      "source": [
        "# 1. Классы и объекты"
      ],
      "metadata": {
        "id": "QQK2-B2vUZmY"
      }
    },
    {
      "cell_type": "markdown",
      "source": [
        "Задача 28: Создайте класс Transaction с полями тип операции, сумма и дата. Реализуйте методы update_amount(new_amount), который обновляет сумму, и display_info(), который выводит информацию о финансовой операции.\n",
        "\n"
      ],
      "metadata": {
        "id": "IAaW0MfeUgyM"
      }
    },
    {
      "cell_type": "markdown",
      "source": [
        "#2. Наследование"
      ],
      "metadata": {
        "id": "Zk9X8d-_UXzS"
      }
    },
    {
      "cell_type": "markdown",
      "source": [
        "Задача 28. Определите класс House, который наследуется от класса Building. Класс House должен добавлять поле площадь и методы для обновления площади и отображения информации о доме."
      ],
      "metadata": {
        "id": "_BmOBWtAV_E2"
      }
    },
    {
      "cell_type": "markdown",
      "source": [
        "# 3. Инкапсуляция"
      ],
      "metadata": {
        "id": "_QO833omULkG"
      }
    },
    {
      "cell_type": "markdown",
      "source": [
        "Задача 28. Создать класс House, в котором поля address, roomCount и area будут приватными. Реализовать методы для безопасного изменения площади и количества комнат, а также доступа к информации о доме."
      ],
      "metadata": {
        "id": "KbFuUOtEWU-F"
      }
    },
    {
      "cell_type": "markdown",
      "source": [
        "# 4. Композиция и агрегация"
      ],
      "metadata": {
        "id": "8IXwKh-IU583"
      }
    },
    {
      "cell_type": "markdown",
      "source": [
        "Композиция. Задача 28. Торт и корж.  Постройте класс `Торт`, состоящий из коржей. Класс `Торт` должен иметь метод для добавления коржей. Класс `Корж` должен содержать поле `вкус`. Коржи не могут существовать вне торта."
      ],
      "metadata": {
        "id": "6e6FgP1oWaJ3"
      }
    },
    {
      "cell_type": "markdown",
      "source": [
        "Агрегация. Задача 28. Учебное заведение и курс. Создайте класс `Учебное заведение`, где преподаются курсы. У класса `Курс` есть поля `название` и `программа`. Курсы могут существовать независимо от учебного заведения."
      ],
      "metadata": {
        "id": "skF0iCjcWab-"
      }
    },
    {
      "cell_type": "markdown",
      "source": [
        "# 5. Абстрактные классы"
      ],
      "metadata": {
        "id": "cbMTsDcZU6b8"
      }
    },
    {
      "cell_type": "markdown",
      "source": [
        "Задача 28. Создать абстрактный класс SportEvent с абстрактным методом schedule(). Реализовать подклассы FootballMatch и BasketballGame, которые реализуют метод schedule()."
      ],
      "metadata": {
        "id": "BVTaDIr1YcGR"
      }
    },
    {
      "cell_type": "markdown",
      "source": [
        "# 6. Интерфейсы"
      ],
      "metadata": {
        "id": "rKC4-_JnVL9C"
      }
    },
    {
      "cell_type": "markdown",
      "source": [
        "Задача 28. Создать интерфейс ITransaction, который содержит методы updateAmount(double amount) и getTransactionDetails(). Создать класс Transaction, реализующий этот интерфейс. Класс должен содержать поля transactionType, amount и date."
      ],
      "metadata": {
        "id": "wWjp-93uZIHT"
      }
    },
    {
      "cell_type": "markdown",
      "source": [
        "# 7. Полиморфизм"
      ],
      "metadata": {
        "id": "O4Hf8UJzU60S"
      }
    },
    {
      "cell_type": "markdown",
      "source": [
        "Задача 28. Определите метод calculateValue() в классе House, который будет вычислять стоимость дома. Создайте подклассы LuxuryHouse и EconomyHouse, которые будут переопределять этот метод для различных типов домов."
      ],
      "metadata": {
        "id": "PWv-A1l0aAKm"
      }
    }
  ]
}