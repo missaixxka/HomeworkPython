{
  "nbformat": 4,
  "nbformat_minor": 0,
  "metadata": {
    "colab": {
      "provenance": [],
      "authorship_tag": "ABX9TyM/Ap4Jygx/jyjgKN1N622T",
      "include_colab_link": true
    },
    "kernelspec": {
      "name": "python3",
      "display_name": "Python 3"
    },
    "language_info": {
      "name": "python"
    }
  },
  "cells": [
    {
      "cell_type": "markdown",
      "metadata": {
        "id": "view-in-github",
        "colab_type": "text"
      },
      "source": [
        "<a href=\"https://colab.research.google.com/github/missaixxka/HomeworkPython/blob/main/HW2.ipynb\" target=\"_parent\"><img src=\"https://colab.research.google.com/assets/colab-badge.svg\" alt=\"Open In Colab\"/></a>"
      ]
    },
    {
      "cell_type": "markdown",
      "source": [
        "# 1. Классы и объекты"
      ],
      "metadata": {
        "id": "QQK2-B2vUZmY"
      }
    },
    {
      "cell_type": "markdown",
      "source": [
        "Задача 28: Создайте класс Transaction с полями тип операции, сумма и дата. Реализуйте методы update_amount(new_amount), который обновляет сумму, и display_info(), который выводит информацию о финансовой операции.\n",
        "\n"
      ],
      "metadata": {
        "id": "IAaW0MfeUgyM"
      }
    },
    {
      "cell_type": "code",
      "source": [
        "class Transaction:\n",
        "  def __init__(self, type, amount, data):\n",
        "    self.type = type  # Тип операции\n",
        "    self.amount = amount  # Сумма\n",
        "    self.data = data  # Дата\n",
        "\n",
        "  def display_info(self):\n",
        "    print(f\"Тип операции: {self.type}, Сумма: {self.amount}, Дата: {self.data}\")\n",
        "\n",
        "  def update_amount(self, new_amount):\n",
        "    self.amount = new_amount\n",
        "\n",
        "  # Пример использования класса\n",
        "transaction = Transaction(\"Покупка\", 1500, \"29.03.2005\")\n",
        "transaction.display_info()\n",
        "transaction.update_amount(3500.68)\n",
        "transaction.display_info()"
      ],
      "metadata": {
        "id": "QuXiaIjO4p2_"
      },
      "execution_count": null,
      "outputs": []
    },
    {
      "cell_type": "markdown",
      "source": [
        "#2. Наследование"
      ],
      "metadata": {
        "id": "Zk9X8d-_UXzS"
      }
    },
    {
      "cell_type": "markdown",
      "source": [
        "Задача 28. Определите класс House, который наследуется от класса Building. Класс House должен добавлять поле площадь и методы для обновления площади и отображения информации о доме."
      ],
      "metadata": {
        "id": "_BmOBWtAV_E2"
      }
    },
    {
      "cell_type": "code",
      "source": [
        "class Building:\n",
        "    def __init__(self, type, address):\n",
        "        self.type = type  # Тип здания\n",
        "        self.address = address  # Адрес\n",
        "\n",
        "    def display_info(self):\n",
        "        print(f\"Тип здания: {self.type}, Адрес: {self.address}\")\n",
        "\n",
        "class House(Building):\n",
        "    def __init__(self, type, address, area):\n",
        "        super().__init__(type, address)  # Вызов конструктора базового класса\n",
        "        self.area = area  # Площадь\n",
        "\n",
        "    def update_area(self, new_area):\n",
        "        self.area = new_area\n",
        "\n",
        "    def display_house_info(self):\n",
        "        self.display_info()  # Вызов метода из базового класса\n",
        "        print(f\"Площадь: {self.area}\")\n",
        "\n",
        "# Создаем объект House\n",
        "house = House(\"Частный дом\", \"ул. Пушкина, д.9\", 600.50)\n",
        "house.display_house_info()\n",
        "house.update_area(550)\n",
        "# Отображаем обновленную информацию\n",
        "house.display_house_info()"
      ],
      "metadata": {
        "id": "46bLtmjf5Sk9"
      },
      "execution_count": null,
      "outputs": []
    },
    {
      "cell_type": "markdown",
      "source": [
        "# 3. Инкапсуляция"
      ],
      "metadata": {
        "id": "_QO833omULkG"
      }
    },
    {
      "cell_type": "markdown",
      "source": [
        "Задача 28. Создать класс House, в котором поля address, roomCount и area будут приватными. Реализовать методы для безопасного изменения площади и количества комнат, а также доступа к информации о доме."
      ],
      "metadata": {
        "id": "KbFuUOtEWU-F"
      }
    },
    {
      "cell_type": "code",
      "source": [
        "# Класс House\n",
        "class House:\n",
        "    def __init__(self, address, roomCount, area):\n",
        "        self.__address = address  # Адрес здания\n",
        "        self.__roomCount = roomCount  # Количество комнат\n",
        "        self.__area = area  # Площадь\n",
        "\n",
        "    # Методы доступа\n",
        "    def get_address(self):\n",
        "        return self.__address\n",
        "\n",
        "    def get_roomCount(self):\n",
        "        return self.__roomCount\n",
        "\n",
        "    def get_area(self):\n",
        "        return self.__area\n",
        "\n",
        "    # Методы изменения\n",
        "    def set_roomCount(self, new_roomCount):\n",
        "        self.__roomCount = new_roomCount\n",
        "\n",
        "    def set_area(self, new_area):\n",
        "        self.__area = new_area\n",
        "\n",
        "house = House(\"ул. Пушкина, д.9\", 5, 150.5)\n",
        "print(\"Адрес:\", house.get_address())\n",
        "print(\"Количество комнат:\", house.get_roomCount())\n",
        "print(\"Площадь:\", house.get_area())\n",
        "house.set_roomCount(3)\n",
        "house.set_area(100)\n",
        "print(\"Обновленное количество комнат:\", house.get_roomCount())\n",
        "print(\"Обновленная площадь:\", house.get_area())"
      ],
      "metadata": {
        "id": "c6UB1-hT52GU"
      },
      "execution_count": null,
      "outputs": []
    },
    {
      "cell_type": "markdown",
      "source": [
        "# 4. Композиция и агрегация"
      ],
      "metadata": {
        "id": "8IXwKh-IU583"
      }
    },
    {
      "cell_type": "markdown",
      "source": [
        "Композиция. Задача 28. Торт и корж.  Постройте класс `Торт`, состоящий из коржей. Класс `Торт` должен иметь метод для добавления коржей. Класс `Корж` должен содержать поле `вкус`. Коржи не могут существовать вне торта."
      ],
      "metadata": {
        "id": "6e6FgP1oWaJ3"
      }
    },
    {
      "cell_type": "code",
      "source": [
        "class Cake:\n",
        "    def __init__(self, title, shape):\n",
        "        self.title = title  # Название торта\n",
        "        self.shape = shape  # Форма торта\n",
        "        self.cakeLayers = []  # Список коржей\n",
        "\n",
        "    class CakeLayer:\n",
        "        def __init__(self, cakeLayer_taste, cakeLayer_weight):\n",
        "            self.cakeLayer_taste = cakeLayer_taste  # Вкус коржа\n",
        "            self.cakeLayer_weight = cakeLayer_weight  # Вес коржа в граммах\n",
        "\n",
        "    def add_cakeLayer(self, cakeLayer_taste, cakeLayer_weight):\n",
        "        \"\"\"Добавить новый корж в торт\"\"\"\n",
        "        new_cakeLayer = self.CakeLayer(cakeLayer_taste, cakeLayer_weight)\n",
        "        self.cakeLayers.append(new_cakeLayer)\n",
        "\n",
        "    def print_info(self):\n",
        "        \"\"\"Вывести информацию о торте и коржах\"\"\"\n",
        "        print(f\"Торт: {self.title}\")\n",
        "        print(f\"Форма: {self.shape}\")\n",
        "        print(\"Список коржей:\")\n",
        "        for cakeLayer in self.cakeLayers:\n",
        "            print(f\"- {cakeLayer.cakeLayer_taste} (вес: {cakeLayer.cakeLayer_weight} грамм)\")\n",
        "\n",
        "# Пример использования\n",
        "# Создаем торт\n",
        "cake = Cake(\"Бисквитный\", \"Круг\")\n",
        "# Добавляем коржи\n",
        "cake.add_cakeLayer(\"Шоколадный\", 200)\n",
        "cake.add_cakeLayer(\"Ванильный\", 300)\n",
        "cake.add_cakeLayer(\"Карамельный\", 250)\n",
        "# Выводим информацию о торте и коржах\n",
        "cake.print_info()"
      ],
      "metadata": {
        "id": "FPEldZjG_wwB"
      },
      "execution_count": null,
      "outputs": []
    },
    {
      "cell_type": "markdown",
      "source": [
        "Агрегация. Задача 28. Учебное заведение и курс. Создайте класс `Учебное заведение`, где преподаются курсы. У класса `Курс` есть поля `название` и `программа`. Курсы могут существовать независимо от учебного заведения."
      ],
      "metadata": {
        "id": "skF0iCjcWab-"
      }
    },
    {
      "cell_type": "code",
      "source": [
        "# Класс \"Курс\"\n",
        "class Course:\n",
        "    def __init__(self, name, prog):\n",
        "        self.name = name  # Название курса\n",
        "        self.prog = prog  # Программа курса\n",
        "\n",
        "    def get_name(self):\n",
        "        return self.name  # Возвращает название курса\n",
        "\n",
        "    def get_prog(self):\n",
        "        return self.prog  # Возвращает программу курса\n",
        "\n",
        "    def display_info(self):\n",
        "        print(f\"Название: {self.name}\\nПрограмма: {self.prog}\")\n",
        "\n",
        "# Класс \"Учебное заведение\"\n",
        "class EdIns:\n",
        "    def __init__(self):\n",
        "        self.courses = []  # Список курсов\n",
        "\n",
        "    def add_course(self, course):\n",
        "        self.courses.append(course)  # Добавляем курс в учебное заведение\n",
        "\n",
        "    def display_courses(self):\n",
        "        print(\"Список курсов в учебном заведении:\")\n",
        "        for course in self.courses:\n",
        "            course.display_info()  # Выводим информацию о каждом курсе\n",
        "\n",
        "# Пример использования\n",
        "# Создание курсов\n",
        "course1 = Course(\"Прикладная математика\", \"\\n Дискретная математика;\\n Элективные курсы по физической культуре и спорту;\\n Иностранный язык; …\")\n",
        "course2 = Course(\"Прикладная математика и информатика\", \"\\n Основы Python;\\n Элективные курсы по физической культуре и спорту;\\n Иностранный язык; …\")\n",
        "course3 = Course(\"Прикладная информатика\",\"\\n Основы C++;\\n Элективные курсы по физической культуре и спорту;\\n Иностранный язык; …\")\n",
        "# Создание учебного заведения и добавление курсов\n",
        "edins = EdIns()\n",
        "edins.add_course(course1)\n",
        "edins.add_course(course2)\n",
        "edins.add_course(course3)\n",
        "# Вывод списка курсов в учебном заведении\n",
        "edins.display_courses()"
      ],
      "metadata": {
        "id": "f6i1wAhBBZZL"
      },
      "execution_count": null,
      "outputs": []
    },
    {
      "cell_type": "markdown",
      "source": [
        "# 5. Абстрактные классы"
      ],
      "metadata": {
        "id": "cbMTsDcZU6b8"
      }
    },
    {
      "cell_type": "markdown",
      "source": [
        "Задача 28. Создать абстрактный класс SportEvent с абстрактным методом schedule(). Реализовать подклассы FootballMatch и BasketballGame, которые реализуют метод schedule()."
      ],
      "metadata": {
        "id": "BVTaDIr1YcGR"
      }
    },
    {
      "cell_type": "code",
      "source": [
        "from abc import ABC, abstractmethod\n",
        "\n",
        "# Абстрактный класс SportEvent\n",
        "class SportEvent(ABC):\n",
        "    @abstractmethod\n",
        "    def schedule(self):\n",
        "        pass  # Абстрактный метод\n",
        "\n",
        "# Подкласс FootballMatch\n",
        "class FootballMatch(SportEvent):\n",
        "    def schedule(self):\n",
        "        print(\"«Сочи» — «Енисей», 19:00, Сочи, стадион «Фишт», Первая лига\\n«Акрон» — «Ростов», 19:30, Самара, «Солидарность Арена», Российская Премьер Лига\")  # Реализация метода schedule\n",
        "\n",
        "# Подкласс BasketballGame\n",
        "class BasketballGame(SportEvent):\n",
        "    def schedule(self):\n",
        "        print(\"14:00 — «Зенит» — «ЦСКА Москва»\\n15:00 — «Уралмаш» — «Енисей»\\n16:00 — «МБА-МАИ» — «Астана»\")  # Реализация метода schedule\n",
        "\n",
        "\n",
        "football = FootballMatch()\n",
        "basketball = BasketballGame()\n",
        "football.schedule()  # Вызов метода schedule для футбольного матча\n",
        "basketball.schedule()  # Вызов метода schedule для баскетбольного матча"
      ],
      "metadata": {
        "id": "ebQinm9lB4CH"
      },
      "execution_count": null,
      "outputs": []
    },
    {
      "cell_type": "markdown",
      "source": [
        "# 6. Интерфейсы"
      ],
      "metadata": {
        "id": "rKC4-_JnVL9C"
      }
    },
    {
      "cell_type": "markdown",
      "source": [
        "Задача 28. Создать интерфейс ITransaction, который содержит методы updateAmount(double amount) и getTransactionDetails(). Создать класс Transaction, реализующий этот интерфейс. Класс должен содержать поля transactionType, amount и date."
      ],
      "metadata": {
        "id": "wWjp-93uZIHT"
      }
    },
    {
      "cell_type": "code",
      "source": [
        "# Интерфейс IIdentifiable\n",
        "from abc import ABC, abstractmethod\n",
        "\n",
        "class ITransaction(ABC):\n",
        "    @abstractmethod\n",
        "    def updateAmount(self, new_amount):\n",
        "        pass  # Метод для обновления суммы\n",
        "\n",
        "    @abstractmethod\n",
        "    def getTransactionDetails(self):\n",
        "        pass  # Метод для получения деталей транзакции\n",
        "\n",
        "# Класс Transaction, реализующий интерфейс ITransaction\n",
        "class Transaction(ITransaction):\n",
        "    def __init__(self, transactionType, amount, date):\n",
        "        self.transactionType = transactionType\n",
        "        self.amount = amount\n",
        "        self.date = date\n",
        "\n",
        "    # Реализация метода updateAmount(new_amount)\n",
        "    def updateAmount(self, new_amount):\n",
        "        self.amount = new_amount\n",
        "\n",
        "    # Реализация метода getTransactionDetails()\n",
        "    def getTransactionDetails(self):\n",
        "        print(f\"Тип транзакции: {self.transactionType}, Сумма: {self.amount}, Дата: {self.date}\")\n",
        "\n",
        "\n",
        "# Пример использования\n",
        "trans = Transaction(\"Покупка\", 3000, \"15.03.2025\")\n",
        "trans.getTransactionDetails()\n",
        "trans.updateAmount(5600.50)\n",
        "trans.getTransactionDetails()"
      ],
      "metadata": {
        "id": "53pqP-g-Caq8"
      },
      "execution_count": null,
      "outputs": []
    },
    {
      "cell_type": "markdown",
      "source": [
        "# 7. Полиморфизм"
      ],
      "metadata": {
        "id": "O4Hf8UJzU60S"
      }
    },
    {
      "cell_type": "markdown",
      "source": [
        "Задача 28. Определите метод calculateValue() в классе House, который будет вычислять стоимость дома. Создайте подклассы LuxuryHouse и EconomyHouse, которые будут переопределять этот метод для различных типов домов."
      ],
      "metadata": {
        "id": "PWv-A1l0aAKm"
      }
    },
    {
      "cell_type": "code",
      "source": [
        "# Базовый класс House\n",
        "class House:\n",
        "    def __init__(self, address, area):\n",
        "        self.address = address\n",
        "        self.area = area\n",
        "\n",
        "    def calculateValue(self):\n",
        "        return 200000 * self.area\n",
        "\n",
        "# Подкласс LuxuryHouse\n",
        "class LuxuryHouse(House):\n",
        "    def calculateValue(self):\n",
        "        return 400000 * self.area\n",
        "\n",
        "# Подкласс EconomyHouse\n",
        "class EconomyHouse(House):\n",
        "    def calculateValue(self):\n",
        "        return 250000 * self.area\n",
        "\n",
        "# Пример использования\n",
        "house1 = LuxuryHouse(\"ул. Пушкина, д.9\", 150)\n",
        "house2 = EconomyHouse(\"ул. Пушкина, д.19\", 245)\n",
        "print(f\"Стоимость первого дома: {house1.calculateValue()}\")\n",
        "# Выводит информацию о стоимости 1 дома\n",
        "print(f\"Стоимость второго дома: {house2.calculateValue()}\")\n",
        "# Выводит информацию о стоимости 2 дома"
      ],
      "metadata": {
        "id": "FzzoudaCCpT-"
      },
      "execution_count": null,
      "outputs": []
    }
  ]
}