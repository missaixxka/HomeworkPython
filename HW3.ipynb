{
  "nbformat": 4,
  "nbformat_minor": 0,
  "metadata": {
    "colab": {
      "provenance": [],
      "authorship_tag": "ABX9TyOxSkqOuLk94VUqhHMIrWpO",
      "include_colab_link": true
    },
    "kernelspec": {
      "name": "python3",
      "display_name": "Python 3"
    },
    "language_info": {
      "name": "python"
    }
  },
  "cells": [
    {
      "cell_type": "markdown",
      "metadata": {
        "id": "view-in-github",
        "colab_type": "text"
      },
      "source": [
        "<a href=\"https://colab.research.google.com/github/missaixxka/HomeworkPython/blob/main/HW3.ipynb\" target=\"_parent\"><img src=\"https://colab.research.google.com/assets/colab-badge.svg\" alt=\"Open In Colab\"/></a>"
      ]
    },
    {
      "cell_type": "markdown",
      "source": [
        "# Одномерные массивы: группа Array. Двумерные массивы (матрицы): группа Matrix."
      ],
      "metadata": {
        "id": "W3T-PaLxkV70"
      }
    },
    {
      "cell_type": "markdown",
      "source": [
        "1.\tДан целочисленный массив A размера N. Переписать в новый целочисленный массив B того же размера вначале все элементы исходного массива с четными номерами, а затем — с нечетными:\n",
        "A2,    A4,    A6,    …,    A1,    A3,    A5,    … .\n",
        "Условный оператор не использовать."
      ],
      "metadata": {
        "id": "YZ45Cil2k0jh"
      }
    },
    {
      "cell_type": "code",
      "source": [
        "def rearrange_ar(A):\n",
        "  N = len(A)\n",
        "  B = [0] * N\n",
        "  index = 0\n",
        "  # Чётные номера\n",
        "  for i in range(1, N, 2):\n",
        "    B[index] = A[i]\n",
        "    index += 1\n",
        "  # Нечётные номера\n",
        "  for i in range(0, N, 2):\n",
        "    B[index] = A[i]\n",
        "    index += 1\n",
        "\n",
        "  return B\n",
        "\n",
        "A = [1, 2, 3, 4, 5, 6, 7, 8, 9, 10]\n",
        "B = rearrange_ar(A)\n",
        "print(\"Массив A:\", A)\n",
        "print(\"Массив B:\", B)"
      ],
      "metadata": {
        "id": "qrDXJ76Cwv3W"
      },
      "execution_count": null,
      "outputs": []
    },
    {
      "cell_type": "markdown",
      "source": [
        "2.\tДан массив размера N. Поменять порядок его элементов на обратный."
      ],
      "metadata": {
        "id": "wAyC6aI8k1JT"
      }
    },
    {
      "cell_type": "code",
      "source": [
        "def reverse_array(arr): # Вариант без встроенной функкции\n",
        "  N = len(arr)\n",
        "  for i in range(N // 2):  # Достаточно пройтись до середины массива\n",
        "    temp = arr[i]\n",
        "    arr[i] = arr[N - 1 - i]\n",
        "    arr[N - 1 - i] = temp\n",
        "\n",
        "arr = [1, 2, 3, 4, 5]\n",
        "print(\"Исходный массив:\", arr)\n",
        "reverse_array(arr)\n",
        "print(\"Инвертированный массив:\", arr)\n",
        "arr = [3, 2, 8, 4, 5]\n",
        "print(\"Исходный массив:\", arr)\n",
        "arr.reverse()\n",
        "print(\"Инвертированный массив:\", arr)"
      ],
      "metadata": {
        "id": "K336gosWy82E"
      },
      "execution_count": null,
      "outputs": []
    },
    {
      "cell_type": "markdown",
      "source": [
        "3.\tДан массив размера N. Найти номер его последнего локального максимума (локальный максимум — это элемент, который больше любого из своих соседей)."
      ],
      "metadata": {
        "id": "6h5IVgu5k1So"
      }
    },
    {
      "cell_type": "code",
      "source": [
        "def last_local_max(arr):\n",
        "  \"\"\"\n",
        "    Индекс последнего локального максимума или -1, если локальных максимумов нет.\n",
        "  \"\"\"\n",
        "  N = len(arr)\n",
        "  last_maximum_index = -1\n",
        "\n",
        "  # Обработка граничного случая для первого элемента\n",
        "  if N > 1 and arr[0] > arr[1]:  # Проверяем, что есть хотя бы 2 элемента\n",
        "      last_maximum_index = 0\n",
        "\n",
        "  # Перебираем массив, начиная со второго и заканчивая предпоследним\n",
        "  for i in range(1, N - 1):\n",
        "      if arr[i] > arr[i - 1] and arr[i] > arr[i + 1]:\n",
        "          last_maximum_index = i\n",
        "\n",
        "  # Обработка граничного случая для последнего элемента\n",
        "  if N > 1 and arr[N - 1] > arr[N - 2]:\n",
        "      if last_maximum_index == -1 or N - 1 > last_maximum_index:\n",
        "          last_maximum_index = N - 1\n",
        "\n",
        "  return last_maximum_index\n",
        "\n",
        "\n",
        "arr = [1, 2, 3, 2, 4, 1, 5, 1]\n",
        "last_max = last_local_max(arr)\n",
        "if last_max != -1:\n",
        "  print(\"Номер последнего локального максимума:\", last_max)\n",
        "else:\n",
        "  print(\"Локальные максимумы не найдены\")"
      ],
      "metadata": {
        "id": "mm0uzUAP1-o9"
      },
      "execution_count": null,
      "outputs": []
    },
    {
      "cell_type": "markdown",
      "source": [
        "4.\tДан целочисленный двумерный массив, размерности n х m. Найти сумму и произведение всех элементов массива."
      ],
      "metadata": {
        "id": "NfMP8UoAk1a-"
      }
    },
    {
      "cell_type": "code",
      "source": [
        "def calc_sum_and_prod(arr):\n",
        "  sum = 0\n",
        "  prod = 1\n",
        "\n",
        "  for row in arr:\n",
        "    for elem in row:\n",
        "      sum += elem\n",
        "      prod *= elem\n",
        "\n",
        "  return sum, prod\n",
        "\n",
        "# Пример использования\n",
        "arr = [[1, 2, 3], [4, 5, 6], [7, 8, 9]]\n",
        "sum, product = calc_sum_and_prod(arr)\n",
        "\n",
        "print(\"Сумма элементов:\", sum)\n",
        "print(\"Произведение элементов:\", product)"
      ],
      "metadata": {
        "id": "kCUe1pw-2_3B"
      },
      "execution_count": null,
      "outputs": []
    },
    {
      "cell_type": "markdown",
      "source": [
        "# Dictionary"
      ],
      "metadata": {
        "id": "XJKr2fzvpg1q"
      }
    },
    {
      "cell_type": "markdown",
      "source": [
        "1. Подсчет частоты слов: Напишите функцию, которая принимает строку и возвращает словарь, где ключи — это слова, а значения — их частота в строке."
      ],
      "metadata": {
        "id": "I7MxRKkwpmYR"
      }
    },
    {
      "cell_type": "code",
      "source": [
        "def count_word(text):\n",
        "    text = text.lower()\n",
        "    punctuation = \"!\\\"#$%&'()*+,-./:;<=>?@[]^_`{|}~\"  # Список знаков препинания\n",
        "    new_text = \"\"\n",
        "    for char in text:\n",
        "        if char not in punctuation:\n",
        "            new_text += char\n",
        "\n",
        "    words = new_text.split()\n",
        "    freq = {}\n",
        "    for word in words:\n",
        "        freq[word] = freq.get(word, 0) + 1\n",
        "    return freq\n",
        "\n",
        "text = \"This is a test string, with punctuation! And another test.\"\n",
        "word_freq = count_word(text)\n",
        "print(\"Частота слов:\", word_freq)"
      ],
      "metadata": {
        "id": "z1O7pAVpMh0K"
      },
      "execution_count": null,
      "outputs": []
    },
    {
      "cell_type": "markdown",
      "source": [
        "2. Инвертирование словаря: Напишите функцию, которая принимает словарь и возвращает новый словарь, где ключи и значения поменяны местами. Если значения не уникальны, объедините ключи в список."
      ],
      "metadata": {
        "id": "C9ri6QMaqM6f"
      }
    },
    {
      "cell_type": "code",
      "source": [
        "def invert_dict(dictionary):\n",
        "  inverted_dict = {}\n",
        "  for key, value in dictionary.items():\n",
        "    if value in inverted_dict:\n",
        "      if not isinstance(inverted_dict[value], list):\n",
        "        inverted_dict[value] = [inverted_dict[value]]\n",
        "      inverted_dict[value].append(key)\n",
        "    else:\n",
        "      inverted_dict[value] = key\n",
        "  return inverted_dict\n",
        "\n",
        "\n",
        "dict = {\"a\": 1, \"b\": 2, \"c\": 1, \"d\": 3}\n",
        "inverted = invert_dict(dict)\n",
        "print(\"Инвертированный словарь:\", inverted)"
      ],
      "metadata": {
        "id": "HJdW3JxHRX00"
      },
      "execution_count": null,
      "outputs": []
    },
    {
      "cell_type": "markdown",
      "source": [
        "3. Слияние словарей: Напишите функцию, которая принимает два словаря и возвращает новый словарь, содержащий все ключи из обоих словарей. Если ключи совпадают, значения должны быть суммированы."
      ],
      "metadata": {
        "id": "m9Cfk5PCr7D0"
      }
    },
    {
      "cell_type": "code",
      "source": [
        "def merge_dict(dict1, dict2):\n",
        "  merged_dict = dict1.copy()\n",
        "  for key, value in dict2.items():\n",
        "    if key in merged_dict:\n",
        "      merged_dict[key] += value\n",
        "    else:\n",
        "      merged_dict[key] = value\n",
        "  return merged_dict\n",
        "\n",
        "dict11 = {\"a\": 1, \"b\": 2, \"c\": 3}\n",
        "dict22= {\"b\": 4, \"d\": 5, \"e\": 6}\n",
        "merged = merge_dict(dict11, dict22)\n",
        "print(\"Слияние словарей:\", merged)"
      ],
      "metadata": {
        "id": "bGFJ-vsrSUYX"
      },
      "execution_count": null,
      "outputs": []
    },
    {
      "cell_type": "markdown",
      "source": [
        "4. Фильтрация по значению: Напишите функцию, которая принимает словарь и пороговое значение, и возвращает новый словарь, содержащий только те пары ключ-значение, где значение больше порогового."
      ],
      "metadata": {
        "id": "vz5asEcsr-8U"
      }
    },
    {
      "cell_type": "code",
      "source": [
        "def filter_by_value(dictionary, numb):\n",
        "  filtered_dict = {}\n",
        "  for key, value in dictionary.items():\n",
        "    if value > numb:\n",
        "      filtered_dict[key] = value\n",
        "  return filtered_dict\n",
        "\n",
        "dict = {\"a\": 1, \"b\": 2, \"c\": 1, \"d\": 3}\n",
        "filtered = filter_by_value(dict, 1)\n",
        "print(\"Фильтрация по значению:\", filtered)"
      ],
      "metadata": {
        "id": "XYfcPt0QUGjV"
      },
      "execution_count": null,
      "outputs": []
    },
    {
      "cell_type": "markdown",
      "source": [
        "5. Максимальное значение: Напишите функцию, которая находит ключ с максимальным значением в словаре."
      ],
      "metadata": {
        "id": "-GtyMT_Jr_Ua"
      }
    },
    {
      "cell_type": "code",
      "source": [
        "def find_max(dictionary):\n",
        "  if not dictionary:\n",
        "    return None\n",
        "\n",
        "  max_key = None\n",
        "  max_value = float('-inf')  # Инициализируем минимальным возможным значением\n",
        "  for key, value in dictionary.items():\n",
        "    if value > max_value:\n",
        "      max_value = value\n",
        "      max_key = key\n",
        "\n",
        "  # max_key = max(dictionary, key=dictionary.get)\n",
        "  return max_key\n",
        "\n",
        "dict = {\"a\": 1, \"b\": 2, \"c\": 1, \"d\": 3}\n",
        "max_key = find_max(dict)\n",
        "print(\"Ключ с максимальным значением:\", max_key)"
      ],
      "metadata": {
        "id": "tFlX50wJVuX2"
      },
      "execution_count": null,
      "outputs": []
    },
    {
      "cell_type": "markdown",
      "source": [
        "6. Минимальное значение: Напишите функцию, которая находит ключ с минимальным значением в словаре."
      ],
      "metadata": {
        "id": "qSS7KLMBr_en"
      }
    },
    {
      "cell_type": "code",
      "source": [
        "def find_min(dictionary):\n",
        "\n",
        "  if not dictionary:\n",
        "    return None\n",
        "\n",
        "  min_key = None\n",
        "  min_value = float('inf')  # Инициализируем максимальным возможным значением\n",
        "  for key, value in dictionary.items():\n",
        "    if value < min_value:\n",
        "      min_value = value\n",
        "      min_key = key\n",
        "\n",
        "  # min_key = min(dictionary, key=dictionary.get)\n",
        "  return min_key\n",
        "\n",
        "dict = {\"a\": 1, \"b\": 2, \"c\": 1, \"d\": 3}\n",
        "min_key = find_min(dict)\n",
        "print(\"Ключ с максимальным значением:\", min_key)"
      ],
      "metadata": {
        "id": "j78iDbfkVwFk"
      },
      "execution_count": null,
      "outputs": []
    },
    {
      "cell_type": "markdown",
      "source": [
        "7. Удаление ключей: Напишите функцию, которая принимает словарь и список ключей, и удаляет из словаря все указанные ключи."
      ],
      "metadata": {
        "id": "WBKv0IzHs2Bd"
      }
    },
    {
      "cell_type": "code",
      "source": [
        "def remove_keys(dictionary, keys_to_remove):\n",
        "  for key in keys_to_remove:\n",
        "    if key in dictionary:\n",
        "      del dictionary[key]\n",
        "\n",
        "dict = {\"a\": 1, \"b\": 2, \"c\": 1, \"d\": 3}\n",
        "keys_to_remove = [\"a\", \"c\"]\n",
        "remove_keys(dict, keys_to_remove)\n",
        "print(\"Удаление ключей:\", dict)"
      ],
      "metadata": {
        "id": "xUS2_lZmYjuJ"
      },
      "execution_count": null,
      "outputs": []
    },
    {
      "cell_type": "markdown",
      "source": [
        "8. Группировка по длине ключей: Напишите функцию, которая группирует ключи словаря по их длине и возвращает словарь, где ключи — это длины, а значения — списки ключей соответствующей длины."
      ],
      "metadata": {
        "id": "3vw4ataes2Lm"
      }
    },
    {
      "cell_type": "code",
      "source": [
        "def group_by_key_length(dictionary):\n",
        "  grouped_dict = {}\n",
        "  for key in dictionary:\n",
        "    length = len(key)\n",
        "    if length in grouped_dict:\n",
        "      grouped_dict[length].append(key)\n",
        "    else:\n",
        "      grouped_dict[length] = [key]\n",
        "  return grouped_dict\n",
        "\n",
        "dict = {\"apple\": 1, \"banana\": 2, \"kiwi\": 3, \"orange\": 4}\n",
        "grouped = group_by_key_length(dict)\n",
        "print(\"Группировка по длине ключей:\", grouped)"
      ],
      "metadata": {
        "id": "iX5BKekUZ-RB"
      },
      "execution_count": null,
      "outputs": []
    },
    {
      "cell_type": "markdown",
      "source": [
        "9. Поиск ключей по значению: Напишите функцию, которая принимает словарь и значение, и возвращает список всех ключей, связанных с этим значением."
      ],
      "metadata": {
        "id": "OrshGXQntBCp"
      }
    },
    {
      "cell_type": "code",
      "source": [
        "def find_keys_by_value(dictionary, val):\n",
        "    keys = []\n",
        "    for key, value in dictionary.items():\n",
        "        if value == val:\n",
        "             keys.append(key)\n",
        "\n",
        "    return keys\n",
        "\n",
        "dict = {\"a\": 1, \"b\": 2, \"c\": 1}\n",
        "keyss = find_keys_by_value(dict, 1)\n",
        "print(\"Ключи по значению:\", keyss)"
      ],
      "metadata": {
        "id": "IKe0zbAmcm0g"
      },
      "execution_count": null,
      "outputs": []
    },
    {
      "cell_type": "markdown",
      "source": [
        "10. Объединение значений: Напишите функцию, которая принимает два словаря и объединяет их значения в списки для каждого ключа."
      ],
      "metadata": {
        "id": "jFBh2aRMtHd8"
      }
    },
    {
      "cell_type": "code",
      "source": [
        "def combine_values(dict1, dict2):\n",
        "  combined_dict = {}\n",
        "  for key, value in dict1.items():\n",
        "    combined_dict[key] = [value]\n",
        "  for key, value in dict2.items():\n",
        "    if key in combined_dict:\n",
        "      combined_dict[key].append(value)\n",
        "    else:\n",
        "      combined_dict[key] = [value]\n",
        "  return combined_dict\n",
        "\n",
        "dictt1 = {\"a\": 1, \"b\": 2}\n",
        "dictt2 = {\"a\": 3, \"c\": 4}\n",
        "combined_values = combine_values(dictt1, dictt2)\n",
        "print(\"Объединение значений:\", combined_values)"
      ],
      "metadata": {
        "id": "1qkEWwv2iOV2"
      },
      "execution_count": null,
      "outputs": []
    },
    {
      "cell_type": "markdown",
      "source": [
        "# Множества"
      ],
      "metadata": {
        "id": "avtRg9WMtgl7"
      }
    },
    {
      "cell_type": "markdown",
      "source": [
        "1. Создание множества из списка: Напишите функцию, которая принимает список и возвращает множество, содержащее уникальные элементы списка."
      ],
      "metadata": {
        "id": "MTUuuP2ltiLL"
      }
    },
    {
      "cell_type": "code",
      "source": [
        "def create_set(lst):\n",
        "  return set(lst)\n",
        "\n",
        "mlist = [1, 2, 2, 3, 4, 4, 5]\n",
        "mset = create_set(mlist)\n",
        "print(\"Множество из списка:\", mset)"
      ],
      "metadata": {
        "id": "mRhvnwtXVeJe"
      },
      "execution_count": null,
      "outputs": []
    },
    {
      "cell_type": "markdown",
      "source": [
        "2. Удаление дубликатов: Напишите функцию, которая удаляет дубликаты из списка с помощью множества и возвращает новый список."
      ],
      "metadata": {
        "id": "cfsxHRUTtmxw"
      }
    },
    {
      "cell_type": "code",
      "source": [
        "def remove_dup(lst):\n",
        "  return list(set(lst))\n",
        "\n",
        "# Пример использования:\n",
        "mlist = [1, 2, 2, 3, 4, 4, 5]\n",
        "unique_list = remove_dup(mlist)\n",
        "print(\"Список без дубликатов:\", unique_list)"
      ],
      "metadata": {
        "id": "EqJH5_GcXG5I"
      },
      "execution_count": null,
      "outputs": []
    },
    {
      "cell_type": "markdown",
      "source": [
        "3. Пересечение множеств: Напишите функцию, которая принимает два множества и возвращает их пересечение."
      ],
      "metadata": {
        "id": "JX_DkviptpXg"
      }
    },
    {
      "cell_type": "code",
      "source": [
        "def intersection_of_sets(set1, set2):\n",
        "  return set1.intersection(set2)\n",
        "\n",
        "set1 = {1, 2, 3, 4, 5}\n",
        "set2 = {3, 4, 5, 6, 7}\n",
        "intersect = intersection_of_sets(set1, set2)\n",
        "print(\"Пересечение множеств:\", intersect)"
      ],
      "metadata": {
        "id": "QmWNcieSaqxI"
      },
      "execution_count": null,
      "outputs": []
    },
    {
      "cell_type": "markdown",
      "source": [
        "4. Объединение множеств: Напишите функцию, которая принимает два множества и возвращает их объединение."
      ],
      "metadata": {
        "id": "O48IyMsotvs3"
      }
    },
    {
      "cell_type": "code",
      "source": [
        "def union_of_sets(set1, set2):\n",
        "  return set1.union(set2)\n",
        "\n",
        "set1 = {1, 2, 3, 4, 5}\n",
        "set2 = {3, 4, 5, 6, 7}\n",
        "uni = union_of_sets(set1, set2)\n",
        "print(\"Объединение множеств:\", uni)"
      ],
      "metadata": {
        "id": "hnfHoZRda6p6"
      },
      "execution_count": null,
      "outputs": []
    },
    {
      "cell_type": "markdown",
      "source": [
        "5. Разность множеств: Напишите функцию, которая принимает два множества и возвращает разность первого множества и второго."
      ],
      "metadata": {
        "id": "bztiozXstxol"
      }
    },
    {
      "cell_type": "code",
      "source": [
        "def difference_of_sets(set1, set2):\n",
        "  return set1.difference(set2)\n",
        "\n",
        "set1 = {1, 2, 3, 4, 5}\n",
        "set2 = {3, 4, 5, 6, 7}\n",
        "differ = difference_of_sets(set1, set2)\n",
        "print(\"Разность множеств (set1 - set2):\", differ)"
      ],
      "metadata": {
        "id": "LX0ZsvmEnBhq"
      },
      "execution_count": null,
      "outputs": []
    },
    {
      "cell_type": "markdown",
      "source": [
        "6. Симметрическая разность: Напишите функцию, которая принимает два множества и возвращает их симметрическую разность."
      ],
      "metadata": {
        "id": "DHg0ebUot0t2"
      }
    },
    {
      "cell_type": "code",
      "source": [
        "def symmetric_difference(set1, set2):\n",
        "  return set1.symmetric_difference(set2)\n",
        "\n",
        "set1 = {1, 2, 3, 4, 5}\n",
        "set2 = {3, 4, 5, 6, 7}\n",
        "symmetric_diff = symmetric_difference(set1, set2)\n",
        "print(\"Симметрическая разность:\", symmetric_diff)"
      ],
      "metadata": {
        "id": "8PA5RN_Fn8Vu"
      },
      "execution_count": null,
      "outputs": []
    },
    {
      "cell_type": "markdown",
      "source": [
        "7. Проверка подмножества: Напишите функцию, которая проверяет, является ли одно множество подмножеством другого."
      ],
      "metadata": {
        "id": "u1ccYxtZt4lm"
      }
    },
    {
      "cell_type": "code",
      "source": [
        "def is_subset(set1, set2):\n",
        "  return set1.issubset(set2)\n",
        "\n",
        "set1 = {1, 2, 3}\n",
        "set2 = {1, 2, 3, 4, 5}\n",
        "result = is_subset(set1, set2)\n",
        "print(\"set1 является подмножеством set2:\", result)"
      ],
      "metadata": {
        "id": "ldcvo0oZoKQk"
      },
      "execution_count": null,
      "outputs": []
    },
    {
      "cell_type": "markdown",
      "source": [
        "8. Проверка надмножества: Напишите функцию, которая проверяет, является ли одно множество надмножеством другого."
      ],
      "metadata": {
        "id": "Fk14y7dbt77t"
      }
    },
    {
      "cell_type": "code",
      "source": [
        "def is_superset(set1, set2):\n",
        "  return set1.issuperset(set2)\n",
        "\n",
        "set1 = {1, 2, 3, 4, 5}\n",
        "set2 = {1, 2, 3}\n",
        "result = is_superset(set1, set2)\n",
        "print(\"set1 является надмножеством set2:\", result)"
      ],
      "metadata": {
        "id": "Xy-iOT5WoVSG"
      },
      "execution_count": null,
      "outputs": []
    },
    {
      "cell_type": "markdown",
      "source": [
        "9. Добавление элементов: Напишите функцию, которая добавляет все элементы из списка в множество."
      ],
      "metadata": {
        "id": "JS016RKyuACf"
      }
    },
    {
      "cell_type": "code",
      "source": [
        "def add_elem(myset, lst):\n",
        "  myset.update(lst)\n",
        "\n",
        "mset = {1, 2, 3}\n",
        "mlist = [3, 4, 5, 6]\n",
        "add_elem(mset, mlist)\n",
        "print(\"Множество после добавления элементов:\", mset)\n"
      ],
      "metadata": {
        "id": "hV5zLUxtoxqi"
      },
      "execution_count": null,
      "outputs": []
    },
    {
      "cell_type": "markdown",
      "source": [
        "10. Удаление элементов: Напишите функцию, которая удаляет из множества все элементы, присутствующие в списке."
      ],
      "metadata": {
        "id": "pmUKuesBvMET"
      }
    },
    {
      "cell_type": "code",
      "source": [
        "def remove_elem(myset, lst):\n",
        "  myset.difference_update(lst)\n",
        "\n",
        "mset = {1, 2, 3, 4, 5, 6}\n",
        "mlist = [2, 4, 6, 7]\n",
        "remove_elem(mset, mlist)\n",
        "print(\"Множество после удаления элементов:\", mset)"
      ],
      "metadata": {
        "id": "gOR1LcBXp7Xp"
      },
      "execution_count": null,
      "outputs": []
    },
    {
      "cell_type": "markdown",
      "source": [
        "# Tuple"
      ],
      "metadata": {
        "id": "45Q6Txyxx-Yr"
      }
    },
    {
      "cell_type": "markdown",
      "source": [
        "1. Создание кортежа из списка: Напишите функцию, которая принимает список и возвращает кортеж, содержащий те же элементы."
      ],
      "metadata": {
        "id": "V-sIsXO6yE2P"
      }
    },
    {
      "cell_type": "code",
      "source": [
        "def create_tuple_from_list(lst):\n",
        "  return tuple(lst)\n",
        "\n",
        "mlist = [1, 2, 3, 4, 5]\n",
        "mtuple = create_tuple_from_list(mlist)\n",
        "print(\"Кортеж из списка:\", mtuple)"
      ],
      "metadata": {
        "id": "iNxKStxXq2Qd"
      },
      "execution_count": null,
      "outputs": []
    },
    {
      "cell_type": "markdown",
      "source": [
        "2. Объединение кортежей: Напишите функцию, которая принимает два кортежа и возвращает их объединение."
      ],
      "metadata": {
        "id": "nuB6udkryX9x"
      }
    },
    {
      "cell_type": "code",
      "source": [
        "def uni_tuples(tuple1, tuple2):\n",
        "  return tuple1 + tuple2\n",
        "\n",
        "tuple1 = (1, 2, 2)\n",
        "tuple2 = (4, 5, 6)\n",
        "utuple = uni_tuples(tuple1, tuple2)\n",
        "print(\"Объединение кортежей:\", utuple)"
      ],
      "metadata": {
        "id": "ng6I-HOwq5hb"
      },
      "execution_count": null,
      "outputs": []
    },
    {
      "cell_type": "markdown",
      "source": [
        "3. Проверка на наличие элемента: Напишите функцию, которая проверяет, содержится ли заданный элемент в кортеже."
      ],
      "metadata": {
        "id": "5cNYegLBylWQ"
      }
    },
    {
      "cell_type": "code",
      "source": [
        "def check_elem(mytuple, elem):\n",
        "  return elem in mytuple\n",
        "\n",
        "mtuple = (1, 2, 3, 4, 5)\n",
        "element = 3\n",
        "res = check_elem(mtuple, element)\n",
        "print(\"Элемент содержится в кортеже:\", res)"
      ],
      "metadata": {
        "id": "vfJw3G9jrlxM"
      },
      "execution_count": null,
      "outputs": []
    },
    {
      "cell_type": "markdown",
      "source": [
        "4. Индекс первого вхождения: Напишите функцию, которая находит индекс первого вхождения заданного элемента в кортеже."
      ],
      "metadata": {
        "id": "5qdEryXdyqek"
      }
    },
    {
      "cell_type": "code",
      "source": [
        "def find_index(mtuple, element):\n",
        "  if element in mtuple:\n",
        "    return mtuple.index(element)\n",
        "  else:\n",
        "    return -1\n",
        "\n",
        "mytuple = (1, 2, 3, 2, 4, 5)\n",
        "elem = 2\n",
        "index = find_index(mytuple, elem)\n",
        "print(\"Индекс первого вхождения элемента:\", index)\n",
        "\n",
        "mytuple = (1, 2, 3, 2, 4, 5)\n",
        "elem = 7\n",
        "index = find_index(mytuple, elem)\n",
        "print(\"Индекс первого вхождения элемента:\", index)"
      ],
      "metadata": {
        "id": "1lR65mQE5YbU"
      },
      "execution_count": null,
      "outputs": []
    },
    {
      "cell_type": "markdown",
      "source": [
        "5. Количество вхождений элемента: Напишите функцию, которая подсчитывает, сколько раз заданный элемент встречается в кортеже."
      ],
      "metadata": {
        "id": "0u7rC5lFyzMw"
      }
    },
    {
      "cell_type": "code",
      "source": [
        "def count_element(mtuple, element):\n",
        "  return mtuple.count(element)\n",
        "\n",
        "mytuple = (1, 2, 3, 2, 4, 5, 2)\n",
        "elem = 2\n",
        "count = count_element(mytuple, elem)\n",
        "print(\"Количество вхождений элемента:\", count)"
      ],
      "metadata": {
        "id": "TRCCOikk5uEC"
      },
      "execution_count": null,
      "outputs": []
    },
    {
      "cell_type": "markdown",
      "source": [
        "6. Максимальный элемент: Напишите функцию, которая находит максимальный элемент в кортеже."
      ],
      "metadata": {
        "id": "rTO57Rrjy3W2"
      }
    },
    {
      "cell_type": "code",
      "source": [
        "def find_maxelement(mytuple):\n",
        "  if not mytuple:\n",
        "    return None  # Возвращаем None для пустого кортежа\n",
        "  maximum = mytuple[0]\n",
        "  for element in mytuple:\n",
        "    if element > maximum:\n",
        "      maximum = element\n",
        "\n",
        "  return maximum\n",
        "  #return max(mytuple)\n",
        "\n",
        "mtuple = (1, 5, 2, 8, 3)\n",
        "maxi = find_maxelement(mtuple)\n",
        "print(\"Максимальный элемент:\", maxi)"
      ],
      "metadata": {
        "id": "ggdBwxdy6Hx7"
      },
      "execution_count": null,
      "outputs": []
    },
    {
      "cell_type": "markdown",
      "source": [
        "7. Минимальный элемент: Напишите функцию, которая находит минимальный элемент в кортеже."
      ],
      "metadata": {
        "id": "sD0rCQaxzEXx"
      }
    },
    {
      "cell_type": "code",
      "source": [
        "def find_minelement(mytuple):\n",
        "  if not mytuple:\n",
        "    return None  # Возвращаем None для пустого кортежа\n",
        "  minimum = mytuple[0]\n",
        "  for element in mytuple:\n",
        "    if element < minimum:\n",
        "      minimum = element\n",
        "\n",
        "  return minimum\n",
        "  #return min(mytuple)\n",
        "\n",
        "mtuple = (1, 5, 2, 8, 3)\n",
        "mini = find_minelement(mtuple)\n",
        "print(\"Максимальный элемент:\", mini)"
      ],
      "metadata": {
        "id": "2UNGM2Je7IoI"
      },
      "execution_count": null,
      "outputs": []
    },
    {
      "cell_type": "markdown",
      "source": [
        "8. Сортировка кортежа: Напишите функцию, которая возвращает отсортированный список на основе элементов кортежа."
      ],
      "metadata": {
        "id": "Ikg4v_YKzRZs"
      }
    },
    {
      "cell_type": "code",
      "source": [
        "def sort_tuple(mytuple):\n",
        "  return sorted(mytuple)\n",
        "\n",
        "mtuple = (5, 2, 8, 1, 9)\n",
        "sorted_list = sort_tuple(mtuple)\n",
        "print(\"Отсортированный список:\", sorted_list)"
      ],
      "metadata": {
        "id": "gaxbEF9t7g9x"
      },
      "execution_count": null,
      "outputs": []
    },
    {
      "cell_type": "markdown",
      "source": [
        "9. Разбиение кортежа: Напишите функцию, которая разбивает кортеж на две части: первую половину и вторую половину."
      ],
      "metadata": {
        "id": "U2SSw7B_zdvF"
      }
    },
    {
      "cell_type": "code",
      "source": [
        "def split_tuple(mytuple):\n",
        "  \"\"\"\n",
        "  Returns:\n",
        "    Кортеж из двух кортежей: (первая_половина, вторая_половина).  Если длина кортежа нечетная, центральный элемент\n",
        "    относится ко второй половине.\n",
        "  \"\"\"\n",
        "  length = len(mytuple)\n",
        "  mid = length // 2\n",
        "  return mytuple[:mid], mytuple[mid:]\n",
        "\n",
        "mtuple = (1, 2, 3, 4, 5, 6)\n",
        "half1, half2 = split_tuple(mtuple)\n",
        "print(\"Первая половина:\", half1)  # Вывод: (1, 2, 3)\n",
        "print(\"Вторая половина:\", half2)  # Вывод: (4, 5, 6)\n",
        "\n",
        "mytuple2 = (1, 2, 3, 4, 5)\n",
        "half1, half2 = split_tuple(mytuple2)\n",
        "print(\"Первая половина:\", half1)\n",
        "print(\"Вторая половина:\", half2)"
      ],
      "metadata": {
        "id": "hb7sSjnu8dS8"
      },
      "execution_count": null,
      "outputs": []
    },
    {
      "cell_type": "markdown",
      "source": [
        "10. Обратный порядок: Напишите функцию, которая возвращает кортеж с элементами в обратном порядке."
      ],
      "metadata": {
        "id": "m3LK0W7xzjwW"
      }
    },
    {
      "cell_type": "code",
      "source": [
        "def reverse_tuple(mytuple):\n",
        "  return mytuple[::-1]\n",
        "\n",
        "mtuple = (1, 2, 3, 4, 5)\n",
        "reversed = reverse_tuple(mtuple)\n",
        "print(\"Кортеж в обратном порядке:\", reversed)"
      ],
      "metadata": {
        "id": "IhoXl7iz8-LI"
      },
      "execution_count": null,
      "outputs": []
    }
  ]
}