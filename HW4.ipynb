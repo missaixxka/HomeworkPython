{
  "nbformat": 4,
  "nbformat_minor": 0,
  "metadata": {
    "colab": {
      "provenance": [],
      "authorship_tag": "ABX9TyP0FzVQeBT0Z8CdRHTxDyYD",
      "include_colab_link": true
    },
    "kernelspec": {
      "name": "python3",
      "display_name": "Python 3"
    },
    "language_info": {
      "name": "python"
    }
  },
  "cells": [
    {
      "cell_type": "markdown",
      "metadata": {
        "id": "view-in-github",
        "colab_type": "text"
      },
      "source": [
        "<a href=\"https://colab.research.google.com/github/missaixxka/HomeworkPython/blob/main/HW4.ipynb\" target=\"_parent\"><img src=\"https://colab.research.google.com/assets/colab-badge.svg\" alt=\"Open In Colab\"/></a>"
      ]
    },
    {
      "cell_type": "markdown",
      "source": [
        "# Символы и строки: группа String"
      ],
      "metadata": {
        "id": "Mz8RHmzpBrhS"
      }
    },
    {
      "cell_type": "markdown",
      "source": [
        "1.\tПодсчитать, сколько раз в данной строке встречается буква Ch, вводимая с клавиатуры."
      ],
      "metadata": {
        "id": "PbhfWL2zB9FM"
      }
    },
    {
      "cell_type": "markdown",
      "source": [
        "2.\tДана символьная строка, заканчивающаяся точкой. Подсчитать, сколько слов в строке."
      ],
      "metadata": {
        "id": "x1SiTTxvCBnc"
      }
    },
    {
      "cell_type": "markdown",
      "source": [
        "3.\tСимвольная строка содержит одно слово. Проверить, будет ли оно читаться одинаково справа налево и слева направо (т.е. является ли оно палиндромом)."
      ],
      "metadata": {
        "id": "Wd-jRLCaCEDa"
      }
    },
    {
      "cell_type": "markdown",
      "source": [
        "# Двоичные (типизированные) файлы: группа File. Текстовые файлы: группа Text"
      ],
      "metadata": {
        "id": "4cTI7DN2BupX"
      }
    },
    {
      "cell_type": "markdown",
      "source": [
        "1.\tЗаполнить файл последовательного доступа f целыми числами, полученными с помощью генератора случайных чисел. Получить в файле g те компоненты файла f, которые являются четными. Багаж пассажира характеризуется количеством вещей и общим весом вещей."
      ],
      "metadata": {
        "id": "rOUAaC7zCdK5"
      }
    },
    {
      "cell_type": "markdown",
      "source": [
        "2.\tДан файл Bagazh, содержащий сведения о багаже нескольких пассажиров. Сведения о багаже каждого пассажира представляют собой запись с двумя полями: одно поле целого типа (количество вещей) и одно — действительное (вес в килограммах). Найти багаж, средний вес одной вещи в котором отличается не более чем на 0,3 кг от общего среднего веса одной вещи."
      ],
      "metadata": {
        "id": "Bl1p1jWxCeNo"
      }
    },
    {
      "cell_type": "markdown",
      "source": [
        "3.\tДан файл, содержащий текст, записанный строчными русскими буквами. Получить в другом файле тот же текст, записанный заглавными буквами."
      ],
      "metadata": {
        "id": "tTMBw0j6ChWx"
      }
    }
  ]
}