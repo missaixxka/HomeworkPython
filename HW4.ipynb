{
  "nbformat": 4,
  "nbformat_minor": 0,
  "metadata": {
    "colab": {
      "provenance": [],
      "authorship_tag": "ABX9TyNj3XjAF9UkroKZwrP1XzOU",
      "include_colab_link": true
    },
    "kernelspec": {
      "name": "python3",
      "display_name": "Python 3"
    },
    "language_info": {
      "name": "python"
    }
  },
  "cells": [
    {
      "cell_type": "markdown",
      "metadata": {
        "id": "view-in-github",
        "colab_type": "text"
      },
      "source": [
        "<a href=\"https://colab.research.google.com/github/missaixxka/HomeworkPython/blob/main/HW4.ipynb\" target=\"_parent\"><img src=\"https://colab.research.google.com/assets/colab-badge.svg\" alt=\"Open In Colab\"/></a>"
      ]
    },
    {
      "cell_type": "markdown",
      "source": [
        "# Символы и строки: группа String"
      ],
      "metadata": {
        "id": "Mz8RHmzpBrhS"
      }
    },
    {
      "cell_type": "markdown",
      "source": [
        "1.\tПодсчитать, сколько раз в данной строке встречается буква Ch, вводимая с клавиатуры."
      ],
      "metadata": {
        "id": "PbhfWL2zB9FM"
      }
    },
    {
      "cell_type": "code",
      "source": [
        "def count_char(text, char):\n",
        "  count = 0\n",
        "  for c in text:\n",
        "    if c == char:\n",
        "      count += 1\n",
        "  return count\n",
        "\n",
        "textt = \"Hello, world!\"\n",
        "ch = \"l\"\n",
        "res = count_char(textt, ch)\n",
        "print(f\"Буква '{ch}' встречается в строке '{textt}' {res} раз.\")"
      ],
      "metadata": {
        "id": "3-y88sWdUsDo"
      },
      "execution_count": null,
      "outputs": []
    },
    {
      "cell_type": "markdown",
      "source": [
        "2.\tДана символьная строка, заканчивающаяся точкой. Подсчитать, сколько слов в строке."
      ],
      "metadata": {
        "id": "x1SiTTxvCBnc"
      }
    },
    {
      "cell_type": "code",
      "source": [
        "def count_words(text):\n",
        "  if not text.endswith(\".\"):\n",
        "    print(\"Строка должна заканчиваться точкой.\")\n",
        "  else:\n",
        "    words = text[:-1].split()  # Удаляем точку и разбиваем на слова\n",
        "    print(f\"В строке '{text}' {len(words)} слов.\")\n",
        "\n",
        "text1 = \"This is a test string.\"\n",
        "count_words(text1)\n",
        "text2 = \"This is a test string\"\n",
        "count_words(text2)"
      ],
      "metadata": {
        "id": "9KSS2ifYWrFm"
      },
      "execution_count": null,
      "outputs": []
    },
    {
      "cell_type": "markdown",
      "source": [
        "3.\tСимвольная строка содержит одно слово. Проверить, будет ли оно читаться одинаково справа налево и слева направо (т.е. является ли оно палиндромом)."
      ],
      "metadata": {
        "id": "Wd-jRLCaCEDa"
      }
    },
    {
      "cell_type": "code",
      "source": [
        "def is_palindrome(word):\n",
        "  word = word.lower()\n",
        "  return word == word[::-1]\n",
        "\n",
        "\n",
        "word1 = \"level\"\n",
        "result1 = is_palindrome(word1)\n",
        "print(f\"Слово '{word1}' является палиндромом: {result1}\")\n",
        "\n",
        "word2 = \"hello\"\n",
        "result2 = is_palindrome(word2)\n",
        "print(f\"Слово '{word2}' является палиндромом: {result2}\")"
      ],
      "metadata": {
        "id": "G67X7_b3XqiJ"
      },
      "execution_count": null,
      "outputs": []
    },
    {
      "cell_type": "markdown",
      "source": [
        "# Двоичные (типизированные) файлы: группа File. Текстовые файлы: группа Text"
      ],
      "metadata": {
        "id": "4cTI7DN2BupX"
      }
    },
    {
      "cell_type": "markdown",
      "source": [
        "1.\tЗаполнить файл последовательного доступа f целыми числами, полученными с помощью генератора случайных чисел. Получить в файле g те компоненты файла f, которые являются четными."
      ],
      "metadata": {
        "id": "rOUAaC7zCdK5"
      }
    },
    {
      "cell_type": "code",
      "source": [
        "import random\n",
        "import pickle\n",
        "import os\n",
        "\n",
        "def generate_random_intfile(filename, count):\n",
        "    with open(filename, \"wb\") as f:\n",
        "        for _ in range(count):\n",
        "            num = random.randint(1, 100)\n",
        "            pickle.dump(num, f)\n",
        "\n",
        "def even_numbfile(input_filename, output_filename):\n",
        "    # Перед открытием проверяем, существует ли входной файл\n",
        "    if not os.path.exists(input_filename):\n",
        "        print(f\"Ошибка: Файл '{input_filename}' не найден.\")\n",
        "        return  # Завершаем функцию, если файла не существует\n",
        "\n",
        "    with open(input_filename, \"rb\") as infile, open(output_filename, \"wb\") as outfile:\n",
        "        try:\n",
        "            while True:\n",
        "                num = pickle.load(infile)\n",
        "                if num % 2 == 0:\n",
        "                    pickle.dump(num, outfile)\n",
        "        except EOFError:\n",
        "            pass\n",
        "\n",
        "f_filename = \"randnum.dat\"\n",
        "g_filename = \"evennum.dat\"\n",
        "num_count = 20\n",
        "generate_random_intfile(f_filename, num_count)\n",
        "even_numbfile(f_filename, g_filename)\n",
        "print(f\"Файл '{f_filename}' сгенерирован со случайными числами.\")\n",
        "print(f\"Файл '{g_filename}' создан с четными числами из '{f_filename}'.\")\n",
        "'''\n",
        "#Код для проверки содержимого бинарных файлов\n",
        "filename = \"randnum.dat\"\n",
        "try:\n",
        "    with open(filename, \"rb\") as f:\n",
        "        while True:\n",
        "            try:\n",
        "                data = pickle.load(f)\n",
        "                print(data)\n",
        "            except EOFError:\n",
        "                break  # Достигли конца файла\n",
        "except FileNotFoundError:\n",
        "    print(f\"Файл '{filename}' не найден.\")\n",
        "except Exception as e:\n",
        "    print(f\"Произошла ошибка: {e}\")\n",
        "'''"
      ],
      "metadata": {
        "id": "ScW-8d6qAkRI"
      },
      "execution_count": null,
      "outputs": []
    },
    {
      "cell_type": "markdown",
      "source": [
        "2.\tДан файл Bagazh, содержащий сведения о багаже нескольких пассажиров. Багаж пассажира характеризуется количеством вещей и общим весом вещей.Сведения о багаже каждого пассажира представляют собой запись с двумя полями: одно поле целого типа (количество вещей) и одно — действительное (вес в килограммах). Найти багаж, средний вес одной вещи в котором отличается не более чем на 0,3 кг от общего среднего веса одной вещи."
      ],
      "metadata": {
        "id": "Bl1p1jWxCeNo"
      }
    },
    {
      "cell_type": "code",
      "source": [
        "import random\n",
        "import pickle\n",
        "import os\n",
        "\n",
        "class Bagazh:  # Определяем класс для представления информации о багаже\n",
        "    def __init__(self, num_items, weight):\n",
        "        self.num_items = num_items\n",
        "        self.weight = weight\n",
        "\n",
        "    def __repr__(self):  # Для красивого вывода\n",
        "        return f\"Bagazh(num_items={self.num_items}, weight={self.weight:.2f})\"\n",
        "\n",
        "def gen_bagazh_binfile(filename, pas_count):\n",
        "    with open(filename, \"wb\") as f:\n",
        "        for _ in range(pas_count):\n",
        "            num_item = random.randint(1, 10)\n",
        "            total_weight = random.uniform(5.0, 30.0)\n",
        "            bagazh = Bagazh(num_item, total_weight)\n",
        "            pickle.dump(bagazh, f)\n",
        "\n",
        "def find_bagazh(filename, weight_diff):\n",
        "    \"\"\"Находит багаж, средний вес одной вещи в котором отличается не более чем на 0,3 кг от общего среднего веса одной вещи.\"\"\"\n",
        "\n",
        "    # Перед открытием проверяем, существует ли файл\n",
        "    if not os.path.exists(filename):\n",
        "        print(f\"Ошибка: Файл '{filename}' не найден.\")\n",
        "        return\n",
        "\n",
        "    bagazh_data = []\n",
        "    total_items = 0\n",
        "    total_weight = 0.0\n",
        "    try:\n",
        "        with open(filename, \"rb\") as f:\n",
        "            while True:\n",
        "                bagazh = pickle.load(f)\n",
        "                bagazh_data.append(bagazh)\n",
        "                total_items += bagazh.num_items\n",
        "                total_weight += bagazh.weight\n",
        "    except EOFError:\n",
        "        pass # Достигли конца файла\n",
        "\n",
        "    if total_items == 0:\n",
        "        print(\"Файл багажа пуст.\")\n",
        "        return\n",
        "\n",
        "    overall_average_weight = total_weight / total_items\n",
        "    print(\"Багаж, у которого средний вес одной вещи отличается не более чем на\", weight_diff, \"кг от общего среднего:\")\n",
        "    for bagazh in bagazh_data:\n",
        "        average_weight = bagazh.weight / bagazh.num_items\n",
        "        if abs(average_weight - overall_average_weight) <= weight_diff:\n",
        "            print(f\"{bagazh}, Средний вес данного багажа: {average_weight:.2f} кг, Средний вес всех багажей: {overall_average_weight:.2f} кг\")\n",
        "\n",
        "bagazh_filename = \"bagazh.dat\"\n",
        "passenger_count = 5\n",
        "weight_difference = 0.3\n",
        "gen_bagazh_binfile(bagazh_filename, passenger_count)\n",
        "find_bagazh(bagazh_filename, weight_difference)\n",
        "'''\n",
        "#Код для проверки содержимого бинарных файлов\n",
        "filename = \"fileee.dat\"\n",
        "try:\n",
        "    with open(filename, \"rb\") as f:\n",
        "        while True:\n",
        "            try:\n",
        "                data = pickle.load(f)\n",
        "                print(data)\n",
        "            except EOFError:\n",
        "                break  # Достигли конца файла\n",
        "except FileNotFoundError:\n",
        "    print(f\"Файл '{filename}' не найден.\")\n",
        "except Exception as e:\n",
        "    print(f\"Произошла ошибка: {e}\")\n",
        "'''"
      ],
      "metadata": {
        "id": "kI088dEZLgg5"
      },
      "execution_count": null,
      "outputs": []
    },
    {
      "cell_type": "markdown",
      "source": [
        "3.\tДан файл, содержащий текст, записанный строчными русскими буквами. Получить в другом файле тот же текст, записанный заглавными буквами."
      ],
      "metadata": {
        "id": "tTMBw0j6ChWx"
      }
    },
    {
      "cell_type": "code",
      "source": [
        "import faker\n",
        "\n",
        "def generate_text_file(filename, num_sentences=5):\n",
        "    \"\"\"Генерирует текстовый файл с текстом на русском языке, записанным строчными буквами.\"\"\"\n",
        "    fake = faker.Faker('ru_RU')\n",
        "    with open(filename, 'w', encoding='utf-8') as f:\n",
        "        for _ in range(num_sentences):\n",
        "            sentence = fake.sentence().lower()\n",
        "            f.write(sentence + '\\n')\n",
        "\n",
        "def convert_to_uppercase(input_filename, output_filename):\n",
        "    \"\"\"Читает текст из входного файла, преобразует его в заглавные буквы и записывает в выходной файл.\"\"\"\n",
        "    try:\n",
        "        with open(input_filename, 'r', encoding='utf-8') as infile, open(output_filename, 'w', encoding='utf-8') as outfile:\n",
        "            for line in infile:\n",
        "                uppercase_line = line.upper()\n",
        "                outfile.write(uppercase_line)\n",
        "        print(f\"Текст из '{input_filename}' преобразован в заглавные буквы и сохранен в '{output_filename}'\")\n",
        "\n",
        "    except FileNotFoundError:\n",
        "        print(f\"Ошибка: Файл '{input_filename}' не найден.\")\n",
        "    except Exception as e:\n",
        "        print(f\"Произошла ошибка: {e}\")\n",
        "\n",
        "\n",
        "input_file = \"input.txt\"\n",
        "output_file = \"output.txt\"\n",
        "\n",
        "generate_text_file(input_file)\n",
        "convert_to_uppercase(input_file, output_file)"
      ],
      "metadata": {
        "id": "21Y_Kw1hRuAl"
      },
      "execution_count": null,
      "outputs": []
    }
  ]
}