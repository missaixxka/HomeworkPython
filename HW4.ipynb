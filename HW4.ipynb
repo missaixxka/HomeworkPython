{
  "nbformat": 4,
  "nbformat_minor": 0,
  "metadata": {
    "colab": {
      "provenance": [],
      "authorship_tag": "ABX9TyOERoG3jReyvNPCMFTZOzy8",
      "include_colab_link": true
    },
    "kernelspec": {
      "name": "python3",
      "display_name": "Python 3"
    },
    "language_info": {
      "name": "python"
    }
  },
  "cells": [
    {
      "cell_type": "markdown",
      "metadata": {
        "id": "view-in-github",
        "colab_type": "text"
      },
      "source": [
        "<a href=\"https://colab.research.google.com/github/missaixxka/HomeworkPython/blob/main/HW4.ipynb\" target=\"_parent\"><img src=\"https://colab.research.google.com/assets/colab-badge.svg\" alt=\"Open In Colab\"/></a>"
      ]
    },
    {
      "cell_type": "markdown",
      "source": [
        "# Символы и строки: группа String"
      ],
      "metadata": {
        "id": "Mz8RHmzpBrhS"
      }
    },
    {
      "cell_type": "markdown",
      "source": [
        "1.\tПодсчитать, сколько раз в данной строке встречается буква Ch, вводимая с клавиатуры."
      ],
      "metadata": {
        "id": "PbhfWL2zB9FM"
      }
    },
    {
      "cell_type": "code",
      "source": [
        "def count_char(text, char):\n",
        "  count = 0\n",
        "  for c in text:\n",
        "    if c == char:\n",
        "      count += 1\n",
        "  return count\n",
        "\n",
        "textt = \"Hello, world!\"\n",
        "ch = \"l\"\n",
        "res = count_char(textt, ch)\n",
        "print(f\"Буква '{ch}' встречается в строке '{textt}' {res} раз.\")"
      ],
      "metadata": {
        "id": "3-y88sWdUsDo"
      },
      "execution_count": null,
      "outputs": []
    },
    {
      "cell_type": "markdown",
      "source": [
        "2.\tДана символьная строка, заканчивающаяся точкой. Подсчитать, сколько слов в строке."
      ],
      "metadata": {
        "id": "x1SiTTxvCBnc"
      }
    },
    {
      "cell_type": "code",
      "source": [
        "def count_words(text):\n",
        "  if not text.endswith(\".\"):\n",
        "    print(\"Строка должна заканчиваться точкой.\")\n",
        "  else:\n",
        "    words = text[:-1].split()  # Удаляем точку и разбиваем на слова\n",
        "    print(f\"В строке '{text}' {len(words)} слов.\")\n",
        "\n",
        "text1 = \"This is a test string.\"\n",
        "count_words(text1)\n",
        "text2 = \"This is a test string\"\n",
        "count_words(text2)"
      ],
      "metadata": {
        "id": "9KSS2ifYWrFm"
      },
      "execution_count": null,
      "outputs": []
    },
    {
      "cell_type": "markdown",
      "source": [
        "3.\tСимвольная строка содержит одно слово. Проверить, будет ли оно читаться одинаково справа налево и слева направо (т.е. является ли оно палиндромом)."
      ],
      "metadata": {
        "id": "Wd-jRLCaCEDa"
      }
    },
    {
      "cell_type": "code",
      "source": [
        "def is_palindrome(word):\n",
        "  word = word.lower()\n",
        "  return word == word[::-1]\n",
        "\n",
        "\n",
        "word1 = \"level\"\n",
        "result1 = is_palindrome(word1)\n",
        "print(f\"Слово '{word1}' является палиндромом: {result1}\")\n",
        "\n",
        "word2 = \"hello\"\n",
        "result2 = is_palindrome(word2)\n",
        "print(f\"Слово '{word2}' является палиндромом: {result2}\")"
      ],
      "metadata": {
        "id": "G67X7_b3XqiJ"
      },
      "execution_count": null,
      "outputs": []
    },
    {
      "cell_type": "markdown",
      "source": [
        "# Двоичные (типизированные) файлы: группа File. Текстовые файлы: группа Text"
      ],
      "metadata": {
        "id": "4cTI7DN2BupX"
      }
    },
    {
      "cell_type": "markdown",
      "source": [
        "1.\tЗаполнить файл последовательного доступа f целыми числами, полученными с помощью генератора случайных чисел. Получить в файле g те компоненты файла f, которые являются четными. Багаж пассажира характеризуется количеством вещей и общим весом вещей."
      ],
      "metadata": {
        "id": "rOUAaC7zCdK5"
      }
    },
    {
      "cell_type": "markdown",
      "source": [
        "2.\tДан файл Bagazh, содержащий сведения о багаже нескольких пассажиров. Сведения о багаже каждого пассажира представляют собой запись с двумя полями: одно поле целого типа (количество вещей) и одно — действительное (вес в килограммах). Найти багаж, средний вес одной вещи в котором отличается не более чем на 0,3 кг от общего среднего веса одной вещи."
      ],
      "metadata": {
        "id": "Bl1p1jWxCeNo"
      }
    },
    {
      "cell_type": "markdown",
      "source": [
        "3.\tДан файл, содержащий текст, записанный строчными русскими буквами. Получить в другом файле тот же текст, записанный заглавными буквами."
      ],
      "metadata": {
        "id": "tTMBw0j6ChWx"
      }
    }
  ]
}